{
 "cells": [
  {
   "cell_type": "code",
   "execution_count": 67,
   "metadata": {
    "collapsed": false
   },
   "outputs": [],
   "source": [
    "import pandas as pd\n",
    "import numpy as np\n",
    "from fuzzywuzzy import fuzz, process\n",
    "from collections import defaultdict"
   ]
  },
  {
   "cell_type": "code",
   "execution_count": 57,
   "metadata": {
    "collapsed": false
   },
   "outputs": [],
   "source": [
    "df = pd.read_csv('topics.csv', names = ['A','B','C','D'])"
   ]
  },
  {
   "cell_type": "code",
   "execution_count": 58,
   "metadata": {
    "collapsed": false
   },
   "outputs": [
    {
     "data": {
      "text/html": [
       "<div>\n",
       "<table border=\"1\" class=\"dataframe\">\n",
       "  <thead>\n",
       "    <tr style=\"text-align: right;\">\n",
       "      <th></th>\n",
       "      <th>A</th>\n",
       "      <th>B</th>\n",
       "      <th>C</th>\n",
       "      <th>D</th>\n",
       "    </tr>\n",
       "  </thead>\n",
       "  <tbody>\n",
       "    <tr>\n",
       "      <th>0</th>\n",
       "      <td>house</td>\n",
       "      <td>ranch house</td>\n",
       "      <td>NaN</td>\n",
       "      <td>nice ranch home|beautiful town home|permanent ...</td>\n",
       "    </tr>\n",
       "    <tr>\n",
       "      <th>1</th>\n",
       "      <td>house</td>\n",
       "      <td>brick house</td>\n",
       "      <td>NaN</td>\n",
       "      <td>nice ranch home|beautiful town home|permanent ...</td>\n",
       "    </tr>\n",
       "    <tr>\n",
       "      <th>2</th>\n",
       "      <td>house</td>\n",
       "      <td>brick ranch house</td>\n",
       "      <td>NaN</td>\n",
       "      <td>charming updated home|cape style home|cedar ho...</td>\n",
       "    </tr>\n",
       "    <tr>\n",
       "      <th>3</th>\n",
       "      <td>house</td>\n",
       "      <td>historic house</td>\n",
       "      <td>NaN</td>\n",
       "      <td>nice ranch home|beautiful town home|permanent ...</td>\n",
       "    </tr>\n",
       "    <tr>\n",
       "      <th>4</th>\n",
       "      <td>house</td>\n",
       "      <td>bright house</td>\n",
       "      <td>NaN</td>\n",
       "      <td>nice ranch home|beautiful town home|permanent ...</td>\n",
       "    </tr>\n",
       "  </tbody>\n",
       "</table>\n",
       "</div>"
      ],
      "text/plain": [
       "       A                  B    C  \\\n",
       "0  house        ranch house  NaN   \n",
       "1  house        brick house  NaN   \n",
       "2  house  brick ranch house  NaN   \n",
       "3  house     historic house  NaN   \n",
       "4  house       bright house  NaN   \n",
       "\n",
       "                                                   D  \n",
       "0  nice ranch home|beautiful town home|permanent ...  \n",
       "1  nice ranch home|beautiful town home|permanent ...  \n",
       "2  charming updated home|cape style home|cedar ho...  \n",
       "3  nice ranch home|beautiful town home|permanent ...  \n",
       "4  nice ranch home|beautiful town home|permanent ...  "
      ]
     },
     "execution_count": 58,
     "metadata": {},
     "output_type": "execute_result"
    }
   ],
   "source": [
    "df.head()"
   ]
  },
  {
   "cell_type": "code",
   "execution_count": 60,
   "metadata": {
    "collapsed": false
   },
   "outputs": [],
   "source": [
    "B = df.B.dropna().values\n",
    "C = df.C.dropna().values\n",
    "D = df.D.dropna().values\n",
    "\n",
    "clist = [c.split(\" # \") for c in C]\n",
    "dlist = [d.split(\"|\") for d in D]"
   ]
  },
  {
   "cell_type": "code",
   "execution_count": 61,
   "metadata": {
    "collapsed": false
   },
   "outputs": [],
   "source": [
    "C_terms = list(set([item for sublist in clist for item in sublist]))\n",
    "D_terms = list(set([item for sublist in dlist for item in sublist]))"
   ]
  },
  {
   "cell_type": "code",
   "execution_count": 70,
   "metadata": {
    "collapsed": false
   },
   "outputs": [
    {
     "data": {
      "text/plain": [
       "19726"
      ]
     },
     "execution_count": 70,
     "metadata": {},
     "output_type": "execute_result"
    }
   ],
   "source": [
    "All_terms = C_terms + D_terms\n",
    "len(All_terms)"
   ]
  },
  {
   "cell_type": "code",
   "execution_count": null,
   "metadata": {
    "collapsed": false
   },
   "outputs": [],
   "source": [
    "instance_category_pairs = []\n",
    "for term in All_terms[1000:1100]:\n",
    "    if process.extractOne(term, B)[1] >= 0.90: instance_category_pairs.append((term, process.extractOne(term, B)[0]))"
   ]
  },
  {
   "cell_type": "code",
   "execution_count": null,
   "metadata": {
    "collapsed": true
   },
   "outputs": [],
   "source": []
  },
  {
   "cell_type": "code",
   "execution_count": null,
   "metadata": {
    "collapsed": true
   },
   "outputs": [],
   "source": []
  },
  {
   "cell_type": "code",
   "execution_count": null,
   "metadata": {
    "collapsed": true
   },
   "outputs": [],
   "source": []
  },
  {
   "cell_type": "code",
   "execution_count": null,
   "metadata": {
    "collapsed": true
   },
   "outputs": [],
   "source": []
  }
 ],
 "metadata": {
  "anaconda-cloud": {},
  "kernelspec": {
   "display_name": "Python [Root]",
   "language": "python",
   "name": "Python [Root]"
  },
  "language_info": {
   "codemirror_mode": {
    "name": "ipython",
    "version": 2
   },
   "file_extension": ".py",
   "mimetype": "text/x-python",
   "name": "python",
   "nbconvert_exporter": "python",
   "pygments_lexer": "ipython2",
   "version": "2.7.12"
  }
 },
 "nbformat": 4,
 "nbformat_minor": 0
}
