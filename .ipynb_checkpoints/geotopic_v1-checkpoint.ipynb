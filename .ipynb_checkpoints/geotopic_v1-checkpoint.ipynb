{
 "cells": [
  {
   "cell_type": "code",
   "execution_count": 67,
   "metadata": {
    "collapsed": false
   },
   "outputs": [],
   "source": [
    "from __future__ import print_function, division\n",
    "import pandas as pd\n",
    "import numpy as np\n",
    "from fuzzywuzzy import fuzz, process\n",
    "from collections import defaultdict"
   ]
  },
  {
   "cell_type": "code",
   "execution_count": 57,
   "metadata": {
    "collapsed": false
   },
   "outputs": [],
   "source": [
    "df = pd.read_csv('topics.csv', names = ['A','B','C','D'])"
   ]
  },
  {
   "cell_type": "code",
   "execution_count": 58,
   "metadata": {
    "collapsed": false
   },
   "outputs": [
    {
     "data": {
      "text/html": [
       "<div>\n",
       "<table border=\"1\" class=\"dataframe\">\n",
       "  <thead>\n",
       "    <tr style=\"text-align: right;\">\n",
       "      <th></th>\n",
       "      <th>A</th>\n",
       "      <th>B</th>\n",
       "      <th>C</th>\n",
       "      <th>D</th>\n",
       "    </tr>\n",
       "  </thead>\n",
       "  <tbody>\n",
       "    <tr>\n",
       "      <th>0</th>\n",
       "      <td>house</td>\n",
       "      <td>ranch house</td>\n",
       "      <td>NaN</td>\n",
       "      <td>nice ranch home|beautiful town home|permanent ...</td>\n",
       "    </tr>\n",
       "    <tr>\n",
       "      <th>1</th>\n",
       "      <td>house</td>\n",
       "      <td>brick house</td>\n",
       "      <td>NaN</td>\n",
       "      <td>nice ranch home|beautiful town home|permanent ...</td>\n",
       "    </tr>\n",
       "    <tr>\n",
       "      <th>2</th>\n",
       "      <td>house</td>\n",
       "      <td>brick ranch house</td>\n",
       "      <td>NaN</td>\n",
       "      <td>charming updated home|cape style home|cedar ho...</td>\n",
       "    </tr>\n",
       "    <tr>\n",
       "      <th>3</th>\n",
       "      <td>house</td>\n",
       "      <td>historic house</td>\n",
       "      <td>NaN</td>\n",
       "      <td>nice ranch home|beautiful town home|permanent ...</td>\n",
       "    </tr>\n",
       "    <tr>\n",
       "      <th>4</th>\n",
       "      <td>house</td>\n",
       "      <td>bright house</td>\n",
       "      <td>NaN</td>\n",
       "      <td>nice ranch home|beautiful town home|permanent ...</td>\n",
       "    </tr>\n",
       "  </tbody>\n",
       "</table>\n",
       "</div>"
      ],
      "text/plain": [
       "       A                  B    C  \\\n",
       "0  house        ranch house  NaN   \n",
       "1  house        brick house  NaN   \n",
       "2  house  brick ranch house  NaN   \n",
       "3  house     historic house  NaN   \n",
       "4  house       bright house  NaN   \n",
       "\n",
       "                                                   D  \n",
       "0  nice ranch home|beautiful town home|permanent ...  \n",
       "1  nice ranch home|beautiful town home|permanent ...  \n",
       "2  charming updated home|cape style home|cedar ho...  \n",
       "3  nice ranch home|beautiful town home|permanent ...  \n",
       "4  nice ranch home|beautiful town home|permanent ...  "
      ]
     },
     "execution_count": 58,
     "metadata": {},
     "output_type": "execute_result"
    }
   ],
   "source": [
    "df.head()"
   ]
  },
  {
   "cell_type": "code",
   "execution_count": 60,
   "metadata": {
    "collapsed": false
   },
   "outputs": [],
   "source": [
    "B = df.B.dropna().values\n",
    "C = df.C.dropna().values\n",
    "D = df.D.dropna().values\n",
    "\n",
    "clist = [c.split(\" # \") for c in C]\n",
    "dlist = [d.split(\"|\") for d in D]"
   ]
  },
  {
   "cell_type": "code",
   "execution_count": 61,
   "metadata": {
    "collapsed": false
   },
   "outputs": [],
   "source": [
    "C_terms = list(set([item for sublist in clist for item in sublist]))\n",
    "D_terms = list(set([item for sublist in dlist for item in sublist]))"
   ]
  },
  {
   "cell_type": "code",
   "execution_count": 70,
   "metadata": {
    "collapsed": false
   },
   "outputs": [
    {
     "data": {
      "text/plain": [
       "19726"
      ]
     },
     "execution_count": 70,
     "metadata": {},
     "output_type": "execute_result"
    }
   ],
   "source": [
    "All_terms = C_terms + D_terms\n",
    "len(All_terms)"
   ]
  },
  {
   "cell_type": "code",
   "execution_count": null,
   "metadata": {
    "collapsed": false
   },
   "outputs": [],
   "source": [
    "instance_category_pairs = []\n",
    "count = 0\n",
    "for term in All_terms:\n",
    "    count += 1\n",
    "    if log()\n",
    "    if process.extractOne(term, B)[1] >= 0.90: instance_category_pairs.append((term, process.extractOne(term, B)[0]))"
   ]
  },
  {
   "cell_type": "code",
   "execution_count": 83,
   "metadata": {
    "collapsed": false
   },
   "outputs": [],
   "source": [
    "category_instance_dict = defaultdict(str)\n",
    "for pairs in instance_category_pairs:\n",
    "    category_instance_dict[pairs[1]] = pairs[0]"
   ]
  },
  {
   "cell_type": "code",
   "execution_count": 84,
   "metadata": {
    "collapsed": false
   },
   "outputs": [
    {
     "data": {
      "text/plain": [
       "defaultdict(str,\n",
       "            {'Shopping': 'major roads and shopping',\n",
       "             'additional kitchen': 'an additional kitchen',\n",
       "             'artist studio': 'an artist studio',\n",
       "             'attached garage': 'large attached garage',\n",
       "             'baseboard heat': 'hot water baseboard heat',\n",
       "             'basement half bath': 'basement with half bath',\n",
       "             'beautiful hardwood floors': 'beautiful hard wood floors',\n",
       "             'brand new water heater': 'brand new water heater',\n",
       "             'brick vinyl exterior': 'brick and vinyl exterior',\n",
       "             'cabinets pantry': 'cabinets and pantry',\n",
       "             'cape cod': 'classic cape cod',\n",
       "             'car garage': 'oversized two-car garage',\n",
       "             'ceiling brick fireplace': 'floor to ceiling brick fireplace',\n",
       "             'ceiling windows': 'ceiling glass windows',\n",
       "             'cherry kitchen cabinets': 'kitchen w/cherry cabinets',\n",
       "             'commuter location': 'convenient commuter location',\n",
       "             'corner lot': 'a nice level corner lot',\n",
       "             'counter tops stainless steel appliances': 'countertops , stainless steel appliances',\n",
       "             'county living': 'quiet county living',\n",
       "             'covered front porch': 'spacious covered front porch',\n",
       "             'custom house': 'custom walk-in shower',\n",
       "             'designer upgrades': 'many designer upgrades',\n",
       "             'desirable features': 'many desirable features',\n",
       "             'detached double garage': 'detached double garage',\n",
       "             'dining area': 'great room and dining area',\n",
       "             'double pane windows': 'double pane windows',\n",
       "             'downstairs bedroom bath': 'bedroom and bath downstairs',\n",
       "             'enclosed shower': 'glass enclosed shower',\n",
       "             'entertaining space': 'additional entertaining space',\n",
       "             'expansive master suite': 'an expansive master suite',\n",
       "             'extended patio': 'an extended patio',\n",
       "             'extra closet': 'extra closet space',\n",
       "             'extra storage': 'w/extra storage',\n",
       "             'family room': 'a den and family room',\n",
       "             'features upgrades': 'features and upgrades',\n",
       "             'fenced area': 'a large fenced area',\n",
       "             'fishing lake': 'a fishing lake',\n",
       "             'formal dining': 'a study , formal dining',\n",
       "             'front load washer dryer': 'front load washer and dryer',\n",
       "             'full basement': 'full basement with workshop',\n",
       "             'game media room': 'game room , media room',\n",
       "             'granite kitchen': 'gourmet kit w/granite counters',\n",
       "             'great room': 'great room with cathedral ceiling',\n",
       "             'guest bedroom': 'a guest bedroom and bath',\n",
       "             'half bath': 'full and half bath',\n",
       "             'handscraped floors': 'handscraped wood floors',\n",
       "             'hardwood carpet': 'hardwood under carpet',\n",
       "             'high ceilings': 'beautiful high ceilings',\n",
       "             'huge fenced yard': 'huge fenced in yard',\n",
       "             'kitchen area': 'a sunny eat-in kitchen',\n",
       "             'kitchen formal dining room': 'kitchen and formal dining room',\n",
       "             'landscaped front': 'newly landscaped front',\n",
       "             'large covered front porch': 'large , covered front porch',\n",
       "             'large deck': 'newer large deck',\n",
       "             'large family kitchen': 'large kitchen and family room',\n",
       "             'large house': 'large conference room',\n",
       "             'living dining area': 'dining/living area',\n",
       "             'living room family room': 'family room and living room',\n",
       "             'lower level': 'lower level patio',\n",
       "             'lower level room': 'lower level game room',\n",
       "             'master bathroom': 'new master bathroom',\n",
       "             'master bedroom': 'a new master bedroom',\n",
       "             'natural light': 'plenty of windows for natural light',\n",
       "             'natural woodwork': 'all natural woodwork',\n",
       "             'neutral colors': 'nice neutral colors',\n",
       "             'new carpet': 'w/new carpet',\n",
       "             'nice family': 'a nice family',\n",
       "             'oak hardwood floors': 'dark hardwood floors',\n",
       "             'open concept': 'nice open concept',\n",
       "             'open deck': 'an open deck',\n",
       "             'open kitchen': 'large open kitchen with island',\n",
       "             'outdoor kitchen': 'outdoor kitchen area',\n",
       "             'private back': 'very private back',\n",
       "             'private community': 'private beach community',\n",
       "             'ranch features': 'ranch home features',\n",
       "             'room laundry room': 'storage and laundry room',\n",
       "             'schools public transportation': 'schools and public transportation',\n",
       "             'second bathroom': 'a second full bathroom',\n",
       "             'second floor': 'spacious second floor',\n",
       "             'separate shower': 'separate glass shower',\n",
       "             'short blocks': 'a few short blocks',\n",
       "             'single family': 'lovely single family',\n",
       "             'spacious living area': 'a spacious living room area',\n",
       "             'split floor plan': 'an open split floor plan',\n",
       "             'stainless steel appliances': 'island and stainless steel appliances',\n",
       "             'storage room': 'plenty of space for storage',\n",
       "             'storage workshop': 'a workshop/storage area',\n",
       "             'style condo': 'a resort style community',\n",
       "             'sun room': 'a charming sun room',\n",
       "             'updated kitchen': 'a newer updated kitchen',\n",
       "             'upgraded granite counter tops': 'upgraded kitchen with granite counter tops',\n",
       "             'utility room': 'a great utility room',\n",
       "             'walking distance lake': 'walking distance to lake',\n",
       "             'wonderful room': 'a wonderful sun room',\n",
       "             'wood interior': 'all wood interior',\n",
       "             'wooded lot': 'great wooded lot'})"
      ]
     },
     "execution_count": 84,
     "metadata": {},
     "output_type": "execute_result"
    }
   ],
   "source": [
    "category_instance_dict"
   ]
  },
  {
   "cell_type": "code",
   "execution_count": null,
   "metadata": {
    "collapsed": true
   },
   "outputs": [],
   "source": []
  },
  {
   "cell_type": "code",
   "execution_count": null,
   "metadata": {
    "collapsed": true
   },
   "outputs": [],
   "source": []
  }
 ],
 "metadata": {
  "anaconda-cloud": {},
  "kernelspec": {
   "display_name": "Python [Root]",
   "language": "python",
   "name": "Python [Root]"
  },
  "language_info": {
   "codemirror_mode": {
    "name": "ipython",
    "version": 2
   },
   "file_extension": ".py",
   "mimetype": "text/x-python",
   "name": "python",
   "nbconvert_exporter": "python",
   "pygments_lexer": "ipython2",
   "version": "2.7.12"
  }
 },
 "nbformat": 4,
 "nbformat_minor": 0
}
